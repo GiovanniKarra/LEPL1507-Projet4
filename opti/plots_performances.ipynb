{
 "cells": [
  {
   "cell_type": "code",
   "execution_count": 1,
   "metadata": {},
   "outputs": [],
   "source": [
    "import numpy as np\n",
    "import cvxpy as cp\n",
    "import matplotlib.pyplot as plt\n",
    "import matplotlib\n",
    "import time\n",
    "import scipy as sp\n",
    "import pre_processing_3d as pre_processing\n",
    "import pandas as pd\n",
    "from mpl_toolkits import mplot3d\n",
    "from scipy.spatial import distance\n",
    "import math\n",
    "import time \n",
    "\n",
    "# import pre_processing_acc #problèmes de compatbilité ici\n",
    "\n",
    "verbose = True\n",
    "\n",
    "# ----------------\n",
    "#  BASE MODEL\n",
    "# ----------------\n",
    "\n",
    "def basemodel(N_sat, N_cities, N_grid, population, coverage):\n",
    "    \"\"\"\n",
    "    N_sat:      number of satellites to place\n",
    "    N_cities:   number of cities\n",
    "    N_grid:     number of grid points (possible satellite positions)\n",
    "    population: numpy array of size N_cities containing the population of each city\n",
    "    coverage:   binary numpy array of size N_cities x N_grid containing the coverage of each city by each satellite:\n",
    "                coverage[i][j] == True if city i is covered by satellite j, 0 otherwise\n",
    "    \"\"\"\n",
    "    \n",
    "    # Variables\n",
    "    y = cp.Variable(N_cities, name=\"y\", boolean=True) # y[i] = 1 si ville i est couverte par un satellite, 0 sinon\n",
    "    x = cp.Variable(N_grid, name=\"x\", boolean=True)   # x[j] = 1 si satellite placé à la position j, 0 sinon\n",
    "\n",
    "    # Objectif\n",
    "    cout = cp.multiply(population, y) # population couverte (multiplication elementwise)\n",
    "    objectif = cp.Maximize(cp.sum(cout)) # maximise la norme 1 (somme) des populations couvertes\n",
    "\n",
    "    # Contraintes\n",
    "    contraintes = []\n",
    "\n",
    "    # N satellites\n",
    "    contraintes.append(cp.sum(x) <= N_sat)\n",
    "    \n",
    "    # Couverture\n",
    "    for i in range(N_cities):\n",
    "        vec_couverture = np.zeros(N_grid, dtype=bool)\n",
    "        vec_couverture[coverage[i]] = True\n",
    "        \n",
    "        contraintes.append(y[i] <= cp.sum(cp.multiply(x, vec_couverture)))\n",
    "\n",
    "    # Debug: voir si les contraintes respectent les DCP rules\n",
    "    if verbose:\n",
    "        for i in range(len(contraintes)):\n",
    "            if not (contraintes[i].is_dcp()):\n",
    "                print(\"Contrainte\", i, \"ne respecte pas DCP rules\")\n",
    "\n",
    "    # Solveur problème\n",
    "    return cp.Problem(objectif, contraintes)\n",
    "\n",
    "# -------------------\n",
    "\n",
    "\n",
    "def to_xyz(cities):\n",
    "    \"\"\"\n",
    "    In:\n",
    "    - cities : [lat, lon]\n",
    "\n",
    "    Out:\n",
    "    - cities_xyz : [x, y, z]\n",
    "    \"\"\"\n",
    "    N_cities = len(cities)\n",
    "    cities_xyz = np.zeros((N_cities,3))\n",
    "    for i, city in enumerate(cities):\n",
    "        lat = city[0]\n",
    "        lon = city[1]\n",
    "        x = math.cos(lat) * math.cos(lon)\n",
    "        y = math.cos(lat) * math.sin(lon)\n",
    "        z = math.sin(lat)\n",
    "        cities_xyz[i,:] = [x, y, z]\n",
    "    return cities_xyz\n"
   ]
  },
  {
   "cell_type": "code",
   "execution_count": null,
   "metadata": {},
   "outputs": [],
   "source": []
  },
  {
   "cell_type": "code",
   "execution_count": 2,
   "metadata": {},
   "outputs": [
    {
     "name": "stdout",
     "output_type": "stream",
     "text": [
      "[[ 0.14072311  0.38435311  0.91239777]\n",
      " [ 0.25385376  0.96620497 -0.04479091]\n",
      " [ 0.14774627  0.30757056 -0.93998478]\n",
      " ...\n",
      " [ 0.52304218 -0.158957    0.8373527 ]\n",
      " [-0.78912539  0.16765929 -0.59090733]\n",
      " [ 0.36795416  0.69620785 -0.61636383]]\n",
      "Preprocessing time: 22.469220399856567\n"
     ]
    }
   ],
   "source": [
    "\n",
    "\n",
    "filename = \"../geonames_smol.csv\"   # <-- Mettre ici les noms des fichiers csv à tester\n",
    "cities = pre_processing.get_cities_old(filename)\n",
    "\n",
    "\n",
    "N_sat = 6\n",
    "radius = 0.4\n",
    "grid_size_X = 30\n",
    "grid_size_Y = 30\n",
    "\n",
    "\n",
    "\n",
    "j = 0\n",
    "\n",
    "# Preprocessing\n",
    "startpre = time.time()\n",
    "grid = pre_processing.calc_grid_3d(grid_size_X, grid_size_Y, h=1.2)\n",
    "\n",
    "\n",
    "N_cities = len(cities)\n",
    "N_grid = len(grid) * len(grid[0])\n",
    "\n",
    "population = [cities[i][2] for i in range(len(cities))]\n",
    "cities_xyz = to_xyz(cities)\n",
    "\n",
    "print(cities_xyz)\n",
    "\n",
    "\n",
    "covered_adj = pre_processing.calc_adj(cities=cities, grid=grid, radius=radius)  \n",
    "endpre = time.time()\n",
    "\n",
    "print(\"Preprocessing time:\", endpre - startpre)"
   ]
  },
  {
   "cell_type": "code",
   "execution_count": 3,
   "metadata": {},
   "outputs": [
    {
     "name": "stdout",
     "output_type": "stream",
     "text": [
      "\n",
      "=========== PROBLEME 1 ===========\n",
      "Nombre de satellites : 1\n",
      "Statut : optimal\n",
      "Population couverte : 0 (0.000000 %)\n",
      "Temps de solve : 4.429496 sec\n",
      "\n",
      "=========== PROBLEME 2 ===========\n",
      "Nombre de satellites : 3\n",
      "Statut : optimal\n",
      "Population couverte : 0 (0.000000 %)\n",
      "Temps de solve : 3.202388 sec\n",
      "\n",
      "=========== PROBLEME 3 ===========\n",
      "Nombre de satellites : 5\n",
      "Statut : optimal\n",
      "Population couverte : 0 (0.000000 %)\n",
      "Temps de solve : 3.983851 sec\n",
      "\n",
      "=========== PROBLEME 4 ===========\n",
      "Nombre de satellites : 10\n",
      "Statut : optimal\n",
      "Population couverte : 0 (0.000000 %)\n",
      "Temps de solve : 3.630599 sec\n"
     ]
    }
   ],
   "source": [
    "# EXPERIENCE: Modifier N_sat\n",
    "\n",
    "save_x = []\n",
    "save_y = []\n",
    "save_sol = []\n",
    "save_times = []\n",
    "\n",
    "all_sats = [1,3,5,10]\n",
    "\n",
    "for j, N_sat in enumerate(all_sats):\n",
    "    startsolve = time.time()\n",
    "    problem = basemodel(N_sat, N_cities, N_grid, population, covered_adj)\n",
    "    problem.solve(verbose=False, warm_start=True)\n",
    "    endsolve = time.time()\n",
    "\n",
    "    vars = problem.variables()\n",
    "\n",
    "    # Save variables\n",
    "    for k in range(2):\n",
    "        if vars[k].name() == \"x\":\n",
    "            save_x.append(vars[k].value)\n",
    "        elif vars[k].name() == \"y\":\n",
    "            save_y.append(vars[k].value)\n",
    "\n",
    "    save_sol.append(problem.value / np.sum(population) * 100)\n",
    "    save_times.append(endsolve - startsolve)\n",
    "\n",
    "    if verbose:\n",
    "        print(\"\\n=========== PROBLEME\", j+1, \"===========\")\n",
    "        #print(\"Population :\", population)\n",
    "        #print(\"Couverture :\", coverage)\n",
    "        print(\"Nombre de satellites : %d\" % N_sat)\n",
    "        print(\"Statut : %s\" % problem.status)\n",
    "        print(\"Population couverte : %d (%f %%)\" % (problem.value, problem.value / np.sum(population) * 100))\n",
    "        print(\"Temps de solve : %f sec\" % (endsolve - startsolve))\n",
    "        #print(\"Variables x :\", save_x[-1])\n"
   ]
  },
  {
   "cell_type": "code",
   "execution_count": 7,
   "metadata": {},
   "outputs": [
    {
     "name": "stdout",
     "output_type": "stream",
     "text": [
      "Positions satellites: []\n"
     ]
    }
   ],
   "source": [
    "print(\"Positions satellites:\", np.where(save_x[0] == 1)[0])"
   ]
  },
  {
   "cell_type": "code",
   "execution_count": 4,
   "metadata": {},
   "outputs": [
    {
     "ename": "IndexError",
     "evalue": "invalid index to scalar variable.",
     "output_type": "error",
     "traceback": [
      "\u001b[1;31m---------------------------------------------------------------------------\u001b[0m",
      "\u001b[1;31mIndexError\u001b[0m                                Traceback (most recent call last)",
      "Cell \u001b[1;32mIn[4], line 4\u001b[0m\n\u001b[0;32m      2\u001b[0m \u001b[38;5;28;01mfor\u001b[39;00m y \u001b[38;5;129;01min\u001b[39;00m \u001b[38;5;28mrange\u001b[39m(\u001b[38;5;28mlen\u001b[39m(grid)):\n\u001b[0;32m      3\u001b[0m     \u001b[38;5;28;01mfor\u001b[39;00m x \u001b[38;5;129;01min\u001b[39;00m \u001b[38;5;28mrange\u001b[39m(\u001b[38;5;28mlen\u001b[39m(grid[\u001b[38;5;241m0\u001b[39m])):\n\u001b[1;32m----> 4\u001b[0m         plt\u001b[38;5;241m.\u001b[39mplot(\u001b[43mgrid\u001b[49m\u001b[43m[\u001b[49m\u001b[43my\u001b[49m\u001b[43m]\u001b[49m\u001b[43m[\u001b[49m\u001b[43mx\u001b[49m\u001b[43m]\u001b[49m\u001b[43m[\u001b[49m\u001b[38;5;241;43m0\u001b[39;49m\u001b[43m]\u001b[49m, grid[y][x][\u001b[38;5;241m1\u001b[39m], \u001b[38;5;124m\"\u001b[39m\u001b[38;5;124mo\u001b[39m\u001b[38;5;124m\"\u001b[39m, color\u001b[38;5;241m=\u001b[39m\u001b[38;5;124m\"\u001b[39m\u001b[38;5;124mblack\u001b[39m\u001b[38;5;124m\"\u001b[39m, alpha\u001b[38;5;241m=\u001b[39m\u001b[38;5;241m0.3\u001b[39m)\n\u001b[0;32m      7\u001b[0m \u001b[38;5;28;01mfor\u001b[39;00m i \u001b[38;5;129;01min\u001b[39;00m \u001b[38;5;28mrange\u001b[39m(\u001b[38;5;28mlen\u001b[39m(cities)):\n\u001b[0;32m      8\u001b[0m     plt\u001b[38;5;241m.\u001b[39mplot(cities[i][\u001b[38;5;241m0\u001b[39m], cities[i][\u001b[38;5;241m1\u001b[39m], \u001b[38;5;124m\"\u001b[39m\u001b[38;5;124mo\u001b[39m\u001b[38;5;124m\"\u001b[39m, color\u001b[38;5;241m=\u001b[39m\u001b[38;5;124m\"\u001b[39m\u001b[38;5;124mblue\u001b[39m\u001b[38;5;124m\"\u001b[39m, alpha\u001b[38;5;241m=\u001b[39m\u001b[38;5;241m0.3\u001b[39m)\n",
      "\u001b[1;31mIndexError\u001b[0m: invalid index to scalar variable."
     ]
    }
   ],
   "source": [
    "for N_sat, sat_positions, sol in zip(all_sats,save_x, save_sol):\n",
    "    for y in range(len(grid)):\n",
    "        for x in range(len(grid[0])):\n",
    "            plt.plot(grid[y][x][0], grid[y][x][1], \"o\", color=\"black\", alpha=0.3)\n",
    "\n",
    "\n",
    "    for i in range(len(cities)):\n",
    "        plt.plot(cities[i][0], cities[i][1], \"o\", color=\"blue\", alpha=0.3)\n",
    "\n",
    "\n",
    "    #sat_positions = np.array(save_x[-1])\n",
    "    indices_sat_positions = np.where(sat_positions > 1-1e-3)[0]\n",
    "    #print(\"Positions satellites (id grid) :\", indices_sat_positions)\n",
    "    for i in indices_sat_positions:\n",
    "        y,x = pre_processing.index_to_grid(i, len(grid), len(grid[0]))\n",
    "        plt.plot(grid[y][x][0], grid[y][x][1], \"*\", color=\"red\", markersize=15)\n",
    "        circle = plt.Circle((grid[y][x][0], grid[y][x][1]), radius, color='red', fill=False, linestyle=\"--\", zorder=2, linewidth=2)\n",
    "        plt.gca().add_patch(circle)\n",
    "\n",
    "    plt.legend()\n",
    "    # Add the radius and number of satellites to the figure\n",
    "    plt.title(\"N_sat: %d, Rayon: %.2f km, Couverture: %.4f %%\" % (N_sat, 40, sol))\n",
    "    plt.xticks([])\n",
    "    plt.yticks([])\n",
    "    plt.tight_layout()\n",
    "    plt.show()\n"
   ]
  },
  {
   "cell_type": "code",
   "execution_count": null,
   "metadata": {},
   "outputs": [
    {
     "data": {
      "image/png": "[encoded data removed]",
      "text/plain": [
       "<Figure size 800x300 with 1 Axes>"
      ]
     },
     "metadata": {},
     "output_type": "display_data"
    }
   ],
   "source": [
    "plt.figure(figsize=(8, 3))  # Set the figsize to make the plot wider\n",
    "plt.plot(all_sats, save_times, color='blue', marker='o', linestyle='-', linewidth=2)\n",
    "plt.xlabel('N_sat')\n",
    "plt.ylabel('Temps (s)')\n",
    "plt.title('Temps de solve en fonction du nombre de satellites')\n",
    "plt.grid(True, linestyle='--', alpha=0.5)\n",
    "plt.show()\n"
   ]
  }
 ],
 "metadata": {
  "kernelspec": {
   "display_name": "Python 3",
   "language": "python",
   "name": "python3"
  },
  "language_info": {
   "codemirror_mode": {
    "name": "ipython",
    "version": 3
   },
   "file_extension": ".py",
   "mimetype": "text/x-python",
   "name": "python",
   "nbconvert_exporter": "python",
   "pygments_lexer": "ipython3",
   "version": "3.11.8"
  }
 },
 "nbformat": 4,
 "nbformat_minor": 2
}
